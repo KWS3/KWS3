{
 "cells": [
  {
   "cell_type": "code",
   "execution_count": 1,
   "metadata": {},
   "outputs": [
    {
     "name": "stderr",
     "output_type": "stream",
     "text": [
      "/Users/lmwgsrwny/Documents/KWS-on-Mamba/.venv/lib/python3.9/site-packages/tqdm/auto.py:21: TqdmWarning: IProgress not found. Please update jupyter and ipywidgets. See https://ipywidgets.readthedocs.io/en/stable/user_install.html\n",
      "  from .autonotebook import tqdm as notebook_tqdm\n",
      "/Users/lmwgsrwny/Documents/KWS-on-Mamba/.venv/lib/python3.9/site-packages/urllib3/__init__.py:35: NotOpenSSLWarning: urllib3 v2 only supports OpenSSL 1.1.1+, currently the 'ssl' module is compiled with 'LibreSSL 2.8.3'. See: https://github.com/urllib3/urllib3/issues/3020\n",
      "  warnings.warn(\n"
     ]
    }
   ],
   "source": [
    "#add main path\n",
    "import sys\n",
    "sys.path.append('/Users/lmwgsrwny/Documents/KWS-on-Mamba/')\n",
    "\n",
    "import torch\n",
    "from torch.utils.data import DataLoader\n",
    "import torch.optim as optim\n",
    "import torch.nn as nn\n",
    "from torch_optimizer import Lookahead\n",
    "from src.data.config import dataset, data_loader, model as model_config, optimizer as optimizer_config, scheduler as scheduler_config, training\n",
    "\n",
    "# Import custom modules\n",
    "from src.models.model import KeywordSpottingModel_with_cls\n",
    "from src.data.data_loader import load_speech_commands_dataset, TFDatasetAdapter, load_bg_noise_dataset\n",
    "from src.utils.utils import set_memory_GB, print_model_size, log_to_file, plot_learning_curves\n",
    "from src.utils.augmentations import add_time_shift_and_align, add_silence\n",
    "from src.utils.train_utils import trainig_loop\n"
   ]
  },
  {
   "cell_type": "code",
   "execution_count": 2,
   "metadata": {},
   "outputs": [],
   "source": [
    "# Load datasets\n",
    "train_ds, val_ds, test_ds, silence_ds , info = load_speech_commands_dataset(reduced=True)\n",
    "# bg_noise_ds = load_bg_noise_dataset()"
   ]
  },
  {
   "cell_type": "code",
   "execution_count": 3,
   "metadata": {},
   "outputs": [
    {
     "name": "stderr",
     "output_type": "stream",
     "text": [
      "2025-01-01 12:45:48.786839: I tensorflow/core/kernels/data/tf_record_dataset_op.cc:376] The default buffer size is 262144, which is overridden by the user specified `buffer_size` of 8388608\n",
      "2025-01-01 12:45:48.973397: I tensorflow/core/framework/local_rendezvous.cc:405] Local rendezvous is aborting with status: OUT_OF_RANGE: End of sequence\n"
     ]
    }
   ],
   "source": [
    "\n",
    "# Initialize datasets with configurations\n",
    "pytorch_test_dataset = TFDatasetAdapter(test_ds, None, **dataset, augmentation=[lambda x: add_time_shift_and_align(x)])\n",
    "#"
   ]
  },
  {
   "cell_type": "code",
   "execution_count": 4,
   "metadata": {},
   "outputs": [],
   "source": [
    "\n",
    "# # Create DataLoaders\n",
    "# train_loader = DataLoader(pytorch_train_dataset, **data_loader, shuffle=True)\n",
    "# val_loader = DataLoader(pytorch_val_dataset, **data_loader, shuffle=False)\n"
   ]
  },
  {
   "cell_type": "code",
   "execution_count": 5,
   "metadata": {},
   "outputs": [
    {
     "name": "stdout",
     "output_type": "stream",
     "text": [
      "Device: mps\n"
     ]
    }
   ],
   "source": [
    "device = torch.device(\"mps\" if torch.mps.is_available() else \"cpu\")\n",
    "print(f\"Device: {device}\")"
   ]
  },
  {
   "cell_type": "code",
   "execution_count": 6,
   "metadata": {},
   "outputs": [],
   "source": [
    "\n",
    "# Initialize model\n",
    "model = KeywordSpottingModel_with_cls(**model_config)\n",
    "\n",
    "# Loss function\n",
    "criterion = nn.CrossEntropyLoss().to(device)\n",
    "\n",
    "# Optimizer\n",
    "base_optimizer = optim.Adam(model.parameters(), lr=optimizer_config['lr'], weight_decay=optimizer_config['weight_decay'])\n",
    "optimizer = Lookahead(base_optimizer, **optimizer_config['lookahead'])\n",
    "\n",
    "# Scheduler\n",
    "scheduler = optim.lr_scheduler.ReduceLROnPlateau(optimizer, **scheduler_config['reduce_lr_on_plateau'])\n"
   ]
  },
  {
   "cell_type": "code",
   "execution_count": 7,
   "metadata": {},
   "outputs": [
    {
     "name": "stderr",
     "output_type": "stream",
     "text": [
      "2025-01-01 12:45:49.757134: I tensorflow/core/framework/local_rendezvous.cc:405] Local rendezvous is aborting with status: OUT_OF_RANGE: End of sequence\n"
     ]
    }
   ],
   "source": [
    "# load test data\n",
    "pytorch_test_dataset = TFDatasetAdapter(test_ds, None, **dataset, augmentation=None)\n",
    "test_loader = DataLoader(pytorch_test_dataset, **data_loader, shuffle=False)\n"
   ]
  },
  {
   "cell_type": "code",
   "execution_count": 8,
   "metadata": {},
   "outputs": [
    {
     "name": "stderr",
     "output_type": "stream",
     "text": [
      "/var/folders/f5/gsx5dxy538z0xyk3rpdwmjqr0000gn/T/ipykernel_32789/965035254.py:1: FutureWarning: You are using `torch.load` with `weights_only=False` (the current default value), which uses the default pickle module implicitly. It is possible to construct malicious pickle data which will execute arbitrary code during unpickling (See https://github.com/pytorch/pytorch/blob/main/SECURITY.md#untrusted-models for more details). In a future release, the default value for `weights_only` will be flipped to `True`. This limits the functions that could be executed during unpickling. Arbitrary objects will no longer be allowed to be loaded via this mode unless they are explicitly allowlisted by the user via `torch.serialization.add_safe_globals`. We recommend you start setting `weights_only=True` for any use case where you don't have full control of the loaded file. Please open an issue on GitHub for any issues related to this experimental feature.\n",
      "  model.load_state_dict(torch.load('/Users/lmwgsrwny/Documents/KWS-on-Mamba/best_model.pth',map_location=torch.device(device)))\n"
     ]
    },
    {
     "data": {
      "text/plain": [
       "<All keys matched successfully>"
      ]
     },
     "execution_count": 8,
     "metadata": {},
     "output_type": "execute_result"
    }
   ],
   "source": [
    "model.load_state_dict(torch.load('/Users/lmwgsrwny/Documents/KWS-on-Mamba/best_model.pth',map_location=torch.device(device)))\n"
   ]
  },
  {
   "cell_type": "code",
   "execution_count": 9,
   "metadata": {},
   "outputs": [],
   "source": [
    "model = model.to(device)"
   ]
  },
  {
   "cell_type": "code",
   "execution_count": 10,
   "metadata": {},
   "outputs": [
    {
     "name": "stdout",
     "output_type": "stream",
     "text": [
      "Test Accuracy: 83.3578792341679%\n"
     ]
    }
   ],
   "source": [
    "\n",
    "# Evaluate the model on the test set\n",
    "accuracy = 0\n",
    "total = 0\n",
    "\n",
    "model.eval()\n",
    "\n",
    "with torch.no_grad():\n",
    "    for audio, labels in test_loader:\n",
    "        audio, labels = audio.to(device), labels.to(device)\n",
    "        outputs = model(audio)\n",
    "        _, predicted = torch.max(outputs, 1)\n",
    "        total += labels.size(0)\n",
    "        accuracy += (predicted == labels).sum().item()\n",
    "test_accuracy = 100 * accuracy / total\n",
    "print(f'Test Accuracy: {test_accuracy}%')\n",
    "\n"
   ]
  },
  {
   "cell_type": "code",
   "execution_count": 11,
   "metadata": {},
   "outputs": [
    {
     "ename": "ModuleNotFoundError",
     "evalue": "No module named 'utils'",
     "output_type": "error",
     "traceback": [
      "\u001b[0;31m---------------------------------------------------------------------------\u001b[0m",
      "\u001b[0;31mModuleNotFoundError\u001b[0m                       Traceback (most recent call last)",
      "Cell \u001b[0;32mIn[11], line 2\u001b[0m\n\u001b[1;32m      1\u001b[0m \u001b[38;5;28;01mimport\u001b[39;00m \u001b[38;5;21;01mpandas\u001b[39;00m \u001b[38;5;28;01mas\u001b[39;00m \u001b[38;5;21;01mpd\u001b[39;00m\n\u001b[0;32m----> 2\u001b[0m \u001b[38;5;28;01mfrom\u001b[39;00m \u001b[38;5;21;01mutils\u001b[39;00m \u001b[38;5;28;01mimport\u001b[39;00m compute_inference_GPU_mem\n\u001b[1;32m      4\u001b[0m \u001b[38;5;66;03m# Define missing variables\u001b[39;00m\n\u001b[1;32m      5\u001b[0m configs \u001b[38;5;241m=\u001b[39m {\u001b[38;5;124m'\u001b[39m\u001b[38;5;124mbatch_size\u001b[39m\u001b[38;5;124m'\u001b[39m: \u001b[38;5;241m32\u001b[39m}  \u001b[38;5;66;03m# Example value, adjust as needed\u001b[39;00m\n",
      "\u001b[0;31mModuleNotFoundError\u001b[0m: No module named 'utils'"
     ]
    }
   ],
   "source": [
    "import pandas as pd\n",
    "from utils import compute_inference_GPU_mem\n",
    "\n",
    "# Define missing variables\n",
    "configs = {'batch_size': 32}  # Example value, adjust as needed\n",
    "input_dim = model_config['input_dim']  # Example value, adjust as needed\n",
    "d_model = model_config['d_model']  # Example value, adjust as needed\n",
    "d_state = model_config['d_state']  # Example value, adjust as needed\n",
    "d_conv = model_config['d_conv']  # Example value, adjust as needed\n",
    "expand = model_config['expand']  # Example value, adjust as needed\n",
    "\n",
    "# Save model size(macs, params) and accuracy\n",
    "batch_size = configs['batch_size']\n",
    "macs, params = print_model_size(model, input_size=torch.randn(batch_size, input_dim, d_model-1).to(\"cuda\"))\n",
    "macs = macs / 1e9\n",
    "accuracy = test_accuracy\n",
    "data = {'Model': ['KeywordSpottingModel_RSM_Norm_0-1-2_order_cls_bgnoise'], 'GMACs': [macs], 'Params': [params], 'Accuracy': [accuracy]}\n",
    "model_config = {'input_dim': input_dim, 'd_model': d_model, 'd_state': d_state, 'd_conv': d_conv, 'expand': expand}\n",
    "data.update(model_config)\n",
    "inf_GPU_mem = compute_inference_GPU_mem(model, input=torch.randn(1, input_dim, d_model-1).to(\"cuda\"))\n",
    "# Inference macs and params\n",
    "inf_macs, inf_params = print_model_size(model, input_size=torch.randn(1, input_dim, d_model-1).to(\"cuda\"))\n",
    "inference_data = {'Inference CUDA Mem in MB': [inf_GPU_mem], 'Inference GMACs': [inf_macs / 1e9], 'Inference Params': [inf_params]}\n",
    "data.update(inference_data)\n",
    "df = pd.DataFrame(data, index=[0])\n",
    "df.to_csv('results.csv', mode='a', header=False)"
   ]
  },
  {
   "cell_type": "code",
   "execution_count": null,
   "metadata": {},
   "outputs": [],
   "source": []
  }
 ],
 "metadata": {
  "kernelspec": {
   "display_name": ".venv",
   "language": "python",
   "name": "python3"
  },
  "language_info": {
   "codemirror_mode": {
    "name": "ipython",
    "version": 3
   },
   "file_extension": ".py",
   "mimetype": "text/x-python",
   "name": "python",
   "nbconvert_exporter": "python",
   "pygments_lexer": "ipython3",
   "version": "3.9.6"
  }
 },
 "nbformat": 4,
 "nbformat_minor": 2
}
